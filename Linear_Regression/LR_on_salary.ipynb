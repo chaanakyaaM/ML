{
 "cells": [
  {
   "cell_type": "code",
   "execution_count": 1,
   "id": "5cedae2f-6c30-4e84-813c-be672218046e",
   "metadata": {},
   "outputs": [],
   "source": [
    "import matplotlib.pyplot as plt\n",
    "import numpy as np\n",
    "import pandas as pd "
   ]
  },
  {
   "cell_type": "code",
   "execution_count": 2,
   "id": "d21dcdd9-1073-4782-a747-86569a2b5b78",
   "metadata": {},
   "outputs": [
    {
     "data": {
      "text/html": [
       "<div>\n",
       "<style scoped>\n",
       "    .dataframe tbody tr th:only-of-type {\n",
       "        vertical-align: middle;\n",
       "    }\n",
       "\n",
       "    .dataframe tbody tr th {\n",
       "        vertical-align: top;\n",
       "    }\n",
       "\n",
       "    .dataframe thead th {\n",
       "        text-align: right;\n",
       "    }\n",
       "</style>\n",
       "<table border=\"1\" class=\"dataframe\">\n",
       "  <thead>\n",
       "    <tr style=\"text-align: right;\">\n",
       "      <th></th>\n",
       "      <th>Unnamed: 0</th>\n",
       "      <th>YearsExperience</th>\n",
       "      <th>Salary</th>\n",
       "    </tr>\n",
       "  </thead>\n",
       "  <tbody>\n",
       "    <tr>\n",
       "      <th>0</th>\n",
       "      <td>0</td>\n",
       "      <td>1.2</td>\n",
       "      <td>39344.0</td>\n",
       "    </tr>\n",
       "    <tr>\n",
       "      <th>1</th>\n",
       "      <td>1</td>\n",
       "      <td>1.4</td>\n",
       "      <td>46206.0</td>\n",
       "    </tr>\n",
       "    <tr>\n",
       "      <th>2</th>\n",
       "      <td>2</td>\n",
       "      <td>1.6</td>\n",
       "      <td>37732.0</td>\n",
       "    </tr>\n",
       "    <tr>\n",
       "      <th>3</th>\n",
       "      <td>3</td>\n",
       "      <td>2.1</td>\n",
       "      <td>43526.0</td>\n",
       "    </tr>\n",
       "    <tr>\n",
       "      <th>4</th>\n",
       "      <td>4</td>\n",
       "      <td>2.3</td>\n",
       "      <td>39892.0</td>\n",
       "    </tr>\n",
       "  </tbody>\n",
       "</table>\n",
       "</div>"
      ],
      "text/plain": [
       "   Unnamed: 0  YearsExperience   Salary\n",
       "0           0              1.2  39344.0\n",
       "1           1              1.4  46206.0\n",
       "2           2              1.6  37732.0\n",
       "3           3              2.1  43526.0\n",
       "4           4              2.3  39892.0"
      ]
     },
     "execution_count": 2,
     "metadata": {},
     "output_type": "execute_result"
    }
   ],
   "source": [
    "df = pd.read_csv('Salary_dataset.csv')\n",
    "df.head()"
   ]
  },
  {
   "cell_type": "code",
   "execution_count": 3,
   "id": "810949b6-66d9-468f-b165-70cced5b556e",
   "metadata": {},
   "outputs": [
    {
     "name": "stdout",
     "output_type": "stream",
     "text": [
      "<class 'pandas.core.frame.DataFrame'>\n",
      "RangeIndex: 30 entries, 0 to 29\n",
      "Data columns (total 2 columns):\n",
      " #   Column           Non-Null Count  Dtype  \n",
      "---  ------           --------------  -----  \n",
      " 0   YearsExperience  30 non-null     float64\n",
      " 1   Salary           30 non-null     float64\n",
      "dtypes: float64(2)\n",
      "memory usage: 612.0 bytes\n",
      "<class 'pandas.core.frame.DataFrame'>\n",
      "RangeIndex: 30 entries, 0 to 29\n",
      "Data columns (total 2 columns):\n",
      " #   Column           Non-Null Count  Dtype  \n",
      "---  ------           --------------  -----  \n",
      " 0   YearsExperience  30 non-null     float64\n",
      " 1   Salary           30 non-null     int32  \n",
      "dtypes: float64(1), int32(1)\n",
      "memory usage: 492.0 bytes\n"
     ]
    }
   ],
   "source": [
    "df = df[['YearsExperience','Salary']].copy()\n",
    "df.info()\n",
    "df['Salary'] = df['Salary'].astype('int32')\n",
    "df.info()"
   ]
  },
  {
   "cell_type": "code",
   "execution_count": 23,
   "id": "1b69e3cc-37d2-4016-88d6-e719f0ae89f6",
   "metadata": {},
   "outputs": [
    {
     "name": "stdout",
     "output_type": "stream",
     "text": [
      "24713.457427179725 9469.738680950619\n"
     ]
    }
   ],
   "source": [
    "x = np.array(df['YearsExperience'])\n",
    "y = np.array(df['Salary'])\n",
    "\n",
    "q0 = 0\n",
    "q1 = 0\n",
    "alpha = 0.05\n",
    "\n",
    "def predict(q0,q1,x):\n",
    "    return q0+q1*x\n",
    "    \n",
    "def error_function(pv, av):\n",
    "    return pv-av\n",
    "\n",
    "def gradient_descent(q0,q1,alpha,epoches,x,y):\n",
    "    m = len(x)\n",
    "    for i in range(epoches): \n",
    "        y_pred = predict(q0, q1, x)\n",
    "        er = error_function(y_pred,y)\n",
    "        \n",
    "        gradient_q0 = (1/m) * np.sum(er)\n",
    "        gradient_q1 = (1/m) * np.sum(er * x)\n",
    "        # This is gradient descent\n",
    "        q0 -= alpha * (1/m) * gradient_q0\n",
    "        q1 -= alpha * (1/m) * gradient_q1\n",
    "        # This is Stochastic Coordinate Descent\n",
    "        # Q0 = Q0 - alpha * (1/m) * np.sum(error_function(predict(Q0, Q1, x), y))\n",
    "        # Q1 = Q1 - alpha * (1/m) * np.sum(error_function(predict(Q0, Q1, x), y) * x)\n",
    "        \n",
    "    return q0,q1\n",
    "\n",
    "q0, q1 = gradient_descent(q0, q1, alpha, 1000, x, y)\n",
    "print(q0, q1)\n",
    "        "
   ]
  },
  {
   "cell_type": "code",
   "execution_count": 24,
   "id": "c8cbf9b3-e9cc-466b-b1da-05f6b126b24d",
   "metadata": {},
   "outputs": [
    {
     "data": {
      "image/png": "[encoded data removed]",
      "text/plain": [
       "<Figure size 640x480 with 1 Axes>"
      ]
     },
     "metadata": {},
     "output_type": "display_data"
    }
   ],
   "source": [
    "plt.scatter(x,y)\n",
    "\n",
    "# optimal 24713.457427179725 9469.738680950619 for 15000 epoches\n",
    "\n",
    "xl = np.linspace(0,max(x),100)\n",
    "yl = round(q0,2)+round(q1,2)*xl\n",
    "plt.plot(xl,yl,label = f'{round(q0,2)}+{round(q1,2)}X', linestyle = '--')\n",
    "plt.legend()\n",
    "plt.show()"
   ]
  },
  {
   "cell_type": "code",
   "execution_count": null,
   "id": "70624335-cc62-4b17-ac97-c7597f9546aa",
   "metadata": {},
   "outputs": [],
   "source": []
  },
  {
   "cell_type": "code",
   "execution_count": null,
   "id": "d706d682-bc7e-43ff-8f73-96c52fd60fe4",
   "metadata": {},
   "outputs": [],
   "source": []
  }
 ],
 "metadata": {
  "kernelspec": {
   "display_name": "Python 3 (ipykernel)",
   "language": "python",
   "name": "python3"
  },
  "language_info": {
   "codemirror_mode": {
    "name": "ipython",
    "version": 3
   },
   "file_extension": ".py",
   "mimetype": "text/x-python",
   "name": "python",
   "nbconvert_exporter": "python",
   "pygments_lexer": "ipython3",
   "version": "3.12.0"
  }
 },
 "nbformat": 4,
 "nbformat_minor": 5
}
